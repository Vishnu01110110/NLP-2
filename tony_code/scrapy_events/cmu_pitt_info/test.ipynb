{
 "cells": [
  {
   "cell_type": "code",
   "execution_count": 5,
   "metadata": {},
   "outputs": [
    {
     "ename": "SyntaxError",
     "evalue": "invalid syntax (1494673835.py, line 2)",
     "output_type": "error",
     "traceback": [
      "\u001b[0;36m  Cell \u001b[0;32mIn[5], line 2\u001b[0;36m\u001b[0m\n\u001b[0;31m    html_string = \"<div>\\\\n\\\\t\\\\t\\\\t\\\\t\\\\t\\\\t\\\\t\\\\tCalifornia Golden Bears at <a href=\\\\\"https://pittsburgh.events/tickets/pittsburgh-panthers-basketball/\\\\\" style=\\\\\"text-decoration: underline dotted 1px;text-decoration-color: #a7a7a7;\\\\\" target=\\\\\"_blank\\\\\" data-wpel-link=\\\\\"internal\\\\\">Pittsburgh Panthers Basketball</a>\\\\t\\\\t\\\\t\\\\t\\\\t\\\\t\\\\t\\\\t</div>\"\u001b[0m\n\u001b[0m                                                                                         ^\u001b[0m\n\u001b[0;31mSyntaxError\u001b[0m\u001b[0;31m:\u001b[0m invalid syntax\n"
     ]
    }
   ],
   "source": [
    "from bs4 import BeautifulSoup\n",
    "html_string = \"<div>\\\\n\\\\t\\\\t\\\\t\\\\t\\\\t\\\\t\\\\t\\\\tCalifornia Golden Bears at <a href=\\\\\"https://pittsburgh.events/tickets/pittsburgh-panthers-basketball/\\\\\" style=\\\\\"text-decoration: underline dotted 1px;text-decoration-color: #a7a7a7;\\\\\" target=\\\\\"_blank\\\\\" data-wpel-link=\\\\\"internal\\\\\">Pittsburgh Panthers Basketball</a>\\\\t\\\\t\\\\t\\\\t\\\\t\\\\t\\\\t\\\\t</div>\"\n",
    "\n",
    "#soup  = BeautifulSoup(\"<div>\\\\n\\\\t\\\\t\\\\t\\\\t\\\\t\\\\t\\\\t\\\\tCalifornia Golden Bears at <a href=\\\\\"https://pittsburgh.events/tickets/pittsburgh-panthers-basketball/\\\\\" style=\\\\\"text-decoration: underline dotted 1px;text-decoration-color: #a7a7a7;\\\\\" target=\\\\\"_blank\\\\\" data-wpel-link=\\\\\"internal\\\\\">Pittsburgh Panthers Basketball</a>\\\\t\\\\t\\\\t\\\\t\\\\t\\\\t\\\\t\\\\t</div>\"ine dotted 1px;text-decoration-color: #a7a7a7;\" target=\"_blank\" data-wpel-link=\"internal\">Pittsburgh Panthers Basketball</a>\\t\\t\\t\\t\\t\\t\\t</div>\")"
   ]
  }
 ],
 "metadata": {
  "kernelspec": {
   "display_name": "scrap",
   "language": "python",
   "name": "python3"
  },
  "language_info": {
   "codemirror_mode": {
    "name": "ipython",
    "version": 3
   },
   "file_extension": ".py",
   "mimetype": "text/x-python",
   "name": "python",
   "nbconvert_exporter": "python",
   "pygments_lexer": "ipython3",
   "version": "3.9.20"
  }
 },
 "nbformat": 4,
 "nbformat_minor": 2
}
